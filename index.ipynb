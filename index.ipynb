{
 "cells": [
  {
   "cell_type": "markdown",
   "metadata": {},
   "source": [
    "# Exploring and Transforming JSON Schemas"
   ]
  },
  {
   "cell_type": "markdown",
   "metadata": {},
   "source": [
    "# Introduction\n",
    "\n",
    "In this lesson, you'll formalize how to explore a JSON file whose structure and schema is unknown to you. This often happens in practice when you are handed a file or stumble upon one with little documentation."
   ]
  },
  {
   "cell_type": "markdown",
   "metadata": {},
   "source": [
    "## Objectives\n",
    "You will be able to:\n",
    "* Use the JSON module to load and parse JSON documents\n",
    "* Load and explore unknown JSON schemas\n",
    "* Convert JSON to a pandas dataframe"
   ]
  },
  {
   "cell_type": "markdown",
   "metadata": {},
   "source": [
    "## Loading the JSON file\n",
    "\n",
    "Load the data from the file `disease_data.json`."
   ]
  },
  {
   "cell_type": "code",
   "execution_count": 22,
   "metadata": {
    "ExecuteTime": {
     "end_time": "2020-06-13T21:07:25.194042Z",
     "start_time": "2020-06-13T21:07:25.189802Z"
    }
   },
   "outputs": [],
   "source": [
    "#Your code here \n",
    "import json"
   ]
  },
  {
   "cell_type": "code",
   "execution_count": 23,
   "metadata": {
    "ExecuteTime": {
     "end_time": "2020-06-13T21:07:29.418950Z",
     "start_time": "2020-06-13T21:07:28.697018Z"
    }
   },
   "outputs": [],
   "source": [
    "f = open('disease_data.json')\n",
    "data = json.load(f)"
   ]
  },
  {
   "cell_type": "markdown",
   "metadata": {},
   "source": [
    "## Explore the first and second levels of the schema hierarchy"
   ]
  },
  {
   "cell_type": "code",
   "execution_count": 24,
   "metadata": {
    "ExecuteTime": {
     "end_time": "2020-06-13T21:07:32.882702Z",
     "start_time": "2020-06-13T21:07:32.873889Z"
    }
   },
   "outputs": [
    {
     "data": {
      "text/plain": [
       "dict"
      ]
     },
     "execution_count": 24,
     "metadata": {},
     "output_type": "execute_result"
    }
   ],
   "source": [
    "#Your code here\n",
    "type(data)"
   ]
  },
  {
   "cell_type": "code",
   "execution_count": 25,
   "metadata": {
    "ExecuteTime": {
     "end_time": "2020-06-13T21:07:36.331240Z",
     "start_time": "2020-06-13T21:07:36.323856Z"
    }
   },
   "outputs": [
    {
     "data": {
      "text/plain": [
       "dict_keys(['meta', 'data'])"
      ]
     },
     "execution_count": 25,
     "metadata": {},
     "output_type": "execute_result"
    }
   ],
   "source": [
    "data.keys()"
   ]
  },
  {
   "cell_type": "code",
   "execution_count": 26,
   "metadata": {
    "ExecuteTime": {
     "end_time": "2020-06-13T21:07:39.923231Z",
     "start_time": "2020-06-13T21:07:39.910249Z"
    }
   },
   "outputs": [
    {
     "data": {
      "text/plain": [
       "dict_keys(['view'])"
      ]
     },
     "execution_count": 26,
     "metadata": {},
     "output_type": "execute_result"
    }
   ],
   "source": [
    "data['meta'].keys()"
   ]
  },
  {
   "cell_type": "code",
   "execution_count": 34,
   "metadata": {
    "ExecuteTime": {
     "end_time": "2020-06-13T21:10:47.411045Z",
     "start_time": "2020-06-13T21:10:47.405119Z"
    }
   },
   "outputs": [
    {
     "data": {
      "text/plain": [
       "dict_keys(['id', 'name', 'attribution', 'attributionLink', 'averageRating', 'category', 'createdAt', 'description', 'displayType', 'downloadCount', 'hideFromCatalog', 'hideFromDataJson', 'indexUpdatedAt', 'licenseId', 'newBackend', 'numberOfComments', 'oid', 'provenance', 'publicationAppendEnabled', 'publicationDate', 'publicationGroup', 'publicationStage', 'rowClass', 'rowsUpdatedAt', 'rowsUpdatedBy', 'tableId', 'totalTimesRated', 'viewCount', 'viewLastModified', 'viewType', 'columns', 'grants', 'license', 'metadata', 'owner', 'query', 'rights', 'tableAuthor', 'tags', 'flags'])"
      ]
     },
     "execution_count": 34,
     "metadata": {},
     "output_type": "execute_result"
    }
   ],
   "source": [
    "data['meta']['view'].keys()"
   ]
  },
  {
   "cell_type": "code",
   "execution_count": 27,
   "metadata": {
    "ExecuteTime": {
     "end_time": "2020-06-13T21:07:43.517374Z",
     "start_time": "2020-06-13T21:07:43.510257Z"
    }
   },
   "outputs": [
    {
     "data": {
      "text/plain": [
       "list"
      ]
     },
     "execution_count": 27,
     "metadata": {},
     "output_type": "execute_result"
    }
   ],
   "source": [
    "type(data['data'])"
   ]
  },
  {
   "cell_type": "code",
   "execution_count": 28,
   "metadata": {
    "ExecuteTime": {
     "end_time": "2020-06-13T21:07:47.240224Z",
     "start_time": "2020-06-13T21:07:47.231234Z"
    }
   },
   "outputs": [
    {
     "name": "stdout",
     "output_type": "stream",
     "text": [
      "meta <class 'dict'>\n",
      "meta 1\n",
      "data <class 'list'>\n",
      "data 60266\n"
     ]
    }
   ],
   "source": [
    "for key in data.keys():\n",
    "    print(key, type(data[key]))\n",
    "    print(key, len(data[key]))"
   ]
  },
  {
   "cell_type": "markdown",
   "metadata": {},
   "source": [
    "## Convert to a DataFrame\n",
    "\n",
    "Create a DataFrame from the JSON file. Be sure to retrive the column names for the dataframe. (Search within the 'meta' key of the master dictionary.) The DataFrame should include all 42 columns."
   ]
  },
  {
   "cell_type": "code",
   "execution_count": 29,
   "metadata": {
    "ExecuteTime": {
     "end_time": "2020-06-13T21:07:50.825000Z",
     "start_time": "2020-06-13T21:07:50.816930Z"
    }
   },
   "outputs": [],
   "source": [
    "#Your code here\n",
    "import pandas as pd"
   ]
  },
  {
   "cell_type": "code",
   "execution_count": 31,
   "metadata": {
    "ExecuteTime": {
     "end_time": "2020-06-13T21:08:37.585648Z",
     "start_time": "2020-06-13T21:08:36.915950Z"
    }
   },
   "outputs": [
    {
     "name": "stdout",
     "output_type": "stream",
     "text": [
      "(60266, 42)\n"
     ]
    }
   ],
   "source": [
    "df = pd.DataFrame(data['data'])\n",
    "print(df.shape)"
   ]
  },
  {
   "cell_type": "code",
   "execution_count": 32,
   "metadata": {
    "ExecuteTime": {
     "end_time": "2020-06-13T21:08:48.784818Z",
     "start_time": "2020-06-13T21:08:48.743851Z"
    }
   },
   "outputs": [
    {
     "data": {
      "text/html": [
       "<div>\n",
       "<style scoped>\n",
       "    .dataframe tbody tr th:only-of-type {\n",
       "        vertical-align: middle;\n",
       "    }\n",
       "\n",
       "    .dataframe tbody tr th {\n",
       "        vertical-align: top;\n",
       "    }\n",
       "\n",
       "    .dataframe thead th {\n",
       "        text-align: right;\n",
       "    }\n",
       "</style>\n",
       "<table border=\"1\" class=\"dataframe\">\n",
       "  <thead>\n",
       "    <tr style=\"text-align: right;\">\n",
       "      <th></th>\n",
       "      <th>0</th>\n",
       "      <th>1</th>\n",
       "      <th>2</th>\n",
       "      <th>3</th>\n",
       "      <th>4</th>\n",
       "      <th>5</th>\n",
       "      <th>6</th>\n",
       "      <th>7</th>\n",
       "      <th>8</th>\n",
       "      <th>9</th>\n",
       "      <th>...</th>\n",
       "      <th>32</th>\n",
       "      <th>33</th>\n",
       "      <th>34</th>\n",
       "      <th>35</th>\n",
       "      <th>36</th>\n",
       "      <th>37</th>\n",
       "      <th>38</th>\n",
       "      <th>39</th>\n",
       "      <th>40</th>\n",
       "      <th>41</th>\n",
       "    </tr>\n",
       "  </thead>\n",
       "  <tbody>\n",
       "    <tr>\n",
       "      <td>0</td>\n",
       "      <td>1</td>\n",
       "      <td>FF49C41F-CE8D-46C4-9164-653B1227CF6F</td>\n",
       "      <td>1</td>\n",
       "      <td>1527194521</td>\n",
       "      <td>959778</td>\n",
       "      <td>1527194521</td>\n",
       "      <td>959778</td>\n",
       "      <td>None</td>\n",
       "      <td>2016</td>\n",
       "      <td>2016</td>\n",
       "      <td>...</td>\n",
       "      <td>59</td>\n",
       "      <td>ALC</td>\n",
       "      <td>ALC2_2</td>\n",
       "      <td>CRDPREV</td>\n",
       "      <td>OVERALL</td>\n",
       "      <td>OVR</td>\n",
       "      <td>None</td>\n",
       "      <td>None</td>\n",
       "      <td>None</td>\n",
       "      <td>None</td>\n",
       "    </tr>\n",
       "    <tr>\n",
       "      <td>1</td>\n",
       "      <td>2</td>\n",
       "      <td>F4468C3D-340A-4CD2-84A3-DF554DFF065E</td>\n",
       "      <td>2</td>\n",
       "      <td>1527194521</td>\n",
       "      <td>959778</td>\n",
       "      <td>1527194521</td>\n",
       "      <td>959778</td>\n",
       "      <td>None</td>\n",
       "      <td>2016</td>\n",
       "      <td>2016</td>\n",
       "      <td>...</td>\n",
       "      <td>01</td>\n",
       "      <td>ALC</td>\n",
       "      <td>ALC2_2</td>\n",
       "      <td>CRDPREV</td>\n",
       "      <td>OVERALL</td>\n",
       "      <td>OVR</td>\n",
       "      <td>None</td>\n",
       "      <td>None</td>\n",
       "      <td>None</td>\n",
       "      <td>None</td>\n",
       "    </tr>\n",
       "    <tr>\n",
       "      <td>2</td>\n",
       "      <td>3</td>\n",
       "      <td>65609156-A343-4869-B03F-2BA62E96AC19</td>\n",
       "      <td>3</td>\n",
       "      <td>1527194521</td>\n",
       "      <td>959778</td>\n",
       "      <td>1527194521</td>\n",
       "      <td>959778</td>\n",
       "      <td>None</td>\n",
       "      <td>2016</td>\n",
       "      <td>2016</td>\n",
       "      <td>...</td>\n",
       "      <td>02</td>\n",
       "      <td>ALC</td>\n",
       "      <td>ALC2_2</td>\n",
       "      <td>CRDPREV</td>\n",
       "      <td>OVERALL</td>\n",
       "      <td>OVR</td>\n",
       "      <td>None</td>\n",
       "      <td>None</td>\n",
       "      <td>None</td>\n",
       "      <td>None</td>\n",
       "    </tr>\n",
       "    <tr>\n",
       "      <td>3</td>\n",
       "      <td>4</td>\n",
       "      <td>0DB09B00-EFEB-4AC0-9467-A7CBD2B57BF3</td>\n",
       "      <td>4</td>\n",
       "      <td>1527194521</td>\n",
       "      <td>959778</td>\n",
       "      <td>1527194521</td>\n",
       "      <td>959778</td>\n",
       "      <td>None</td>\n",
       "      <td>2016</td>\n",
       "      <td>2016</td>\n",
       "      <td>...</td>\n",
       "      <td>04</td>\n",
       "      <td>ALC</td>\n",
       "      <td>ALC2_2</td>\n",
       "      <td>CRDPREV</td>\n",
       "      <td>OVERALL</td>\n",
       "      <td>OVR</td>\n",
       "      <td>None</td>\n",
       "      <td>None</td>\n",
       "      <td>None</td>\n",
       "      <td>None</td>\n",
       "    </tr>\n",
       "    <tr>\n",
       "      <td>4</td>\n",
       "      <td>5</td>\n",
       "      <td>D98DA5BA-6FD6-40F5-A9B1-ABD45E44967B</td>\n",
       "      <td>5</td>\n",
       "      <td>1527194521</td>\n",
       "      <td>959778</td>\n",
       "      <td>1527194521</td>\n",
       "      <td>959778</td>\n",
       "      <td>None</td>\n",
       "      <td>2016</td>\n",
       "      <td>2016</td>\n",
       "      <td>...</td>\n",
       "      <td>05</td>\n",
       "      <td>ALC</td>\n",
       "      <td>ALC2_2</td>\n",
       "      <td>CRDPREV</td>\n",
       "      <td>OVERALL</td>\n",
       "      <td>OVR</td>\n",
       "      <td>None</td>\n",
       "      <td>None</td>\n",
       "      <td>None</td>\n",
       "      <td>None</td>\n",
       "    </tr>\n",
       "  </tbody>\n",
       "</table>\n",
       "<p>5 rows × 42 columns</p>\n",
       "</div>"
      ],
      "text/plain": [
       "   0                                     1   2           3       4   \\\n",
       "0   1  FF49C41F-CE8D-46C4-9164-653B1227CF6F   1  1527194521  959778   \n",
       "1   2  F4468C3D-340A-4CD2-84A3-DF554DFF065E   2  1527194521  959778   \n",
       "2   3  65609156-A343-4869-B03F-2BA62E96AC19   3  1527194521  959778   \n",
       "3   4  0DB09B00-EFEB-4AC0-9467-A7CBD2B57BF3   4  1527194521  959778   \n",
       "4   5  D98DA5BA-6FD6-40F5-A9B1-ABD45E44967B   5  1527194521  959778   \n",
       "\n",
       "           5       6     7     8     9   ...  32   33      34       35  \\\n",
       "0  1527194521  959778  None  2016  2016  ...  59  ALC  ALC2_2  CRDPREV   \n",
       "1  1527194521  959778  None  2016  2016  ...  01  ALC  ALC2_2  CRDPREV   \n",
       "2  1527194521  959778  None  2016  2016  ...  02  ALC  ALC2_2  CRDPREV   \n",
       "3  1527194521  959778  None  2016  2016  ...  04  ALC  ALC2_2  CRDPREV   \n",
       "4  1527194521  959778  None  2016  2016  ...  05  ALC  ALC2_2  CRDPREV   \n",
       "\n",
       "        36   37    38    39    40    41  \n",
       "0  OVERALL  OVR  None  None  None  None  \n",
       "1  OVERALL  OVR  None  None  None  None  \n",
       "2  OVERALL  OVR  None  None  None  None  \n",
       "3  OVERALL  OVR  None  None  None  None  \n",
       "4  OVERALL  OVR  None  None  None  None  \n",
       "\n",
       "[5 rows x 42 columns]"
      ]
     },
     "execution_count": 32,
     "metadata": {},
     "output_type": "execute_result"
    }
   ],
   "source": [
    "df.head()"
   ]
  },
  {
   "cell_type": "code",
   "execution_count": 35,
   "metadata": {
    "ExecuteTime": {
     "end_time": "2020-06-13T21:11:45.453700Z",
     "start_time": "2020-06-13T21:11:45.445842Z"
    }
   },
   "outputs": [
    {
     "name": "stdout",
     "output_type": "stream",
     "text": [
      "Index(['sid', 'id', 'position', 'created_at', 'created_meta', 'updated_at',\n",
      "       'updated_meta', 'meta', 'YearStart', 'YearEnd', 'LocationAbbr',\n",
      "       'LocationDesc', 'DataSource', 'Topic', 'Question', 'Response',\n",
      "       'DataValueUnit', 'DataValueType', 'DataValue', 'DataValueAlt',\n",
      "       'DataValueFootnoteSymbol', 'DatavalueFootnote', 'LowConfidenceLimit',\n",
      "       'HighConfidenceLimit', 'StratificationCategory1', 'Stratification1',\n",
      "       'StratificationCategory2', 'Stratification2', 'StratificationCategory3',\n",
      "       'Stratification3', 'GeoLocation', 'ResponseID', 'LocationID', 'TopicID',\n",
      "       'QuestionID', 'DataValueTypeID', 'StratificationCategoryID1',\n",
      "       'StratificationID1', 'StratificationCategoryID2', 'StratificationID2',\n",
      "       'StratificationCategoryID3', 'StratificationID3'],\n",
      "      dtype='object')\n"
     ]
    }
   ],
   "source": [
    "df.columns = [item['name'] for item in data['meta']['view']['columns']]\n",
    "print(df.columns)"
   ]
  },
  {
   "cell_type": "code",
   "execution_count": 44,
   "metadata": {
    "ExecuteTime": {
     "end_time": "2020-06-13T21:29:11.020153Z",
     "start_time": "2020-06-13T21:29:11.003843Z"
    }
   },
   "outputs": [
    {
     "ename": "AttributeError",
     "evalue": "'Index' object has no attribute 'head'",
     "output_type": "error",
     "traceback": [
      "\u001b[0;31m---------------------------------------------------------------------------\u001b[0m",
      "\u001b[0;31mAttributeError\u001b[0m                            Traceback (most recent call last)",
      "\u001b[0;32m<ipython-input-44-bb070fef4ce8>\u001b[0m in \u001b[0;36m<module>\u001b[0;34m\u001b[0m\n\u001b[0;32m----> 1\u001b[0;31m \u001b[0mdf\u001b[0m\u001b[0;34m.\u001b[0m\u001b[0mcolumns\u001b[0m\u001b[0;34m.\u001b[0m\u001b[0mhead\u001b[0m\u001b[0;34m(\u001b[0m\u001b[0;34m)\u001b[0m\u001b[0;34m\u001b[0m\u001b[0;34m\u001b[0m\u001b[0m\n\u001b[0m",
      "\u001b[0;31mAttributeError\u001b[0m: 'Index' object has no attribute 'head'"
     ]
    }
   ],
   "source": [
    "df['columns']head()"
   ]
  },
  {
   "cell_type": "markdown",
   "metadata": {},
   "source": [
    "## Level-Up\n",
    "## Create a bar graph of states with the highest asthma rates for adults age 18+"
   ]
  },
  {
   "cell_type": "code",
   "execution_count": 37,
   "metadata": {
    "ExecuteTime": {
     "end_time": "2020-06-13T21:17:51.936061Z",
     "start_time": "2020-06-13T21:17:51.905069Z"
    }
   },
   "outputs": [
    {
     "data": {
      "text/plain": [
       "array(['Alcohol', 'Arthritis', 'Asthma', 'Cancer', 'Diabetes',\n",
       "       'Mental Health', 'Chronic Obstructive Pulmonary Disease',\n",
       "       'Oral Health', 'Cardiovascular Disease', 'Immunization',\n",
       "       'Chronic Kidney Disease',\n",
       "       'Nutrition, Physical Activity, and Weight Status', 'Older Adults',\n",
       "       'Tobacco', 'Overarching Conditions', 'Reproductive Health',\n",
       "       'Disability'], dtype=object)"
      ]
     },
     "execution_count": 37,
     "metadata": {},
     "output_type": "execute_result"
    }
   ],
   "source": [
    "df.Topic.unique()"
   ]
  },
  {
   "cell_type": "code",
   "execution_count": 38,
   "metadata": {
    "ExecuteTime": {
     "end_time": "2020-06-13T21:20:05.502578Z",
     "start_time": "2020-06-13T21:20:05.457112Z"
    }
   },
   "outputs": [
    {
     "data": {
      "text/plain": [
       "Influenza vaccination among noninstitutionalized adults aged 18-64 years with asthma       0.186096\n",
       "Current asthma prevalence among adults aged >= 18 years                                    0.372193\n",
       "Pneumococcal vaccination among noninstitutionalized adults aged 18-64 years with asthma    0.558289\n",
       "Pneumococcal vaccination among noninstitutionalized adults aged >= 65 years with asthma    0.744385\n",
       "Influenza vaccination among noninstitutionalized adults aged >= 65 years with asthma       0.930481\n",
       "Asthma prevalence among women aged 18-44 years                                             1.000000\n",
       "Name: Question, dtype: float64"
      ]
     },
     "execution_count": 38,
     "metadata": {},
     "output_type": "execute_result"
    }
   ],
   "source": [
    "df[df.Topic == 'Asthma'].Question.value_counts(normalize=True).cumsum()[:10]"
   ]
  },
  {
   "cell_type": "code",
   "execution_count": 39,
   "metadata": {
    "ExecuteTime": {
     "end_time": "2020-06-13T21:20:59.792146Z",
     "start_time": "2020-06-13T21:20:59.760185Z"
    }
   },
   "outputs": [
    {
     "data": {
      "text/html": [
       "<div>\n",
       "<style scoped>\n",
       "    .dataframe tbody tr th:only-of-type {\n",
       "        vertical-align: middle;\n",
       "    }\n",
       "\n",
       "    .dataframe tbody tr th {\n",
       "        vertical-align: top;\n",
       "    }\n",
       "\n",
       "    .dataframe thead th {\n",
       "        text-align: right;\n",
       "    }\n",
       "</style>\n",
       "<table border=\"1\" class=\"dataframe\">\n",
       "  <thead>\n",
       "    <tr style=\"text-align: right;\">\n",
       "      <th></th>\n",
       "      <th>LocationAbbr</th>\n",
       "      <th>LocationDesc</th>\n",
       "      <th>DataSource</th>\n",
       "      <th>Topic</th>\n",
       "      <th>Question</th>\n",
       "      <th>YearStart</th>\n",
       "      <th>YearEnd</th>\n",
       "      <th>DataValue</th>\n",
       "    </tr>\n",
       "  </thead>\n",
       "  <tbody>\n",
       "    <tr>\n",
       "      <td>4725</td>\n",
       "      <td>IL</td>\n",
       "      <td>Illinois</td>\n",
       "      <td>BRFSS</td>\n",
       "      <td>Asthma</td>\n",
       "      <td>Current asthma prevalence among adults aged &gt;=...</td>\n",
       "      <td>2016</td>\n",
       "      <td>2016</td>\n",
       "      <td>6.5</td>\n",
       "    </tr>\n",
       "    <tr>\n",
       "      <td>5529</td>\n",
       "      <td>IN</td>\n",
       "      <td>Indiana</td>\n",
       "      <td>BRFSS</td>\n",
       "      <td>Asthma</td>\n",
       "      <td>Current asthma prevalence among adults aged &gt;=...</td>\n",
       "      <td>2016</td>\n",
       "      <td>2016</td>\n",
       "      <td>6.7</td>\n",
       "    </tr>\n",
       "    <tr>\n",
       "      <td>5632</td>\n",
       "      <td>IA</td>\n",
       "      <td>Iowa</td>\n",
       "      <td>BRFSS</td>\n",
       "      <td>Asthma</td>\n",
       "      <td>Current asthma prevalence among adults aged &gt;=...</td>\n",
       "      <td>2016</td>\n",
       "      <td>2016</td>\n",
       "      <td>5.6</td>\n",
       "    </tr>\n",
       "    <tr>\n",
       "      <td>6777</td>\n",
       "      <td>KS</td>\n",
       "      <td>Kansas</td>\n",
       "      <td>BRFSS</td>\n",
       "      <td>Asthma</td>\n",
       "      <td>Current asthma prevalence among adults aged &gt;=...</td>\n",
       "      <td>2016</td>\n",
       "      <td>2016</td>\n",
       "      <td>6.1</td>\n",
       "    </tr>\n",
       "    <tr>\n",
       "      <td>7034</td>\n",
       "      <td>KY</td>\n",
       "      <td>Kentucky</td>\n",
       "      <td>BRFSS</td>\n",
       "      <td>Asthma</td>\n",
       "      <td>Current asthma prevalence among adults aged &gt;=...</td>\n",
       "      <td>2016</td>\n",
       "      <td>2016</td>\n",
       "      <td>6.9</td>\n",
       "    </tr>\n",
       "  </tbody>\n",
       "</table>\n",
       "</div>"
      ],
      "text/plain": [
       "     LocationAbbr LocationDesc DataSource   Topic  \\\n",
       "4725           IL     Illinois      BRFSS  Asthma   \n",
       "5529           IN      Indiana      BRFSS  Asthma   \n",
       "5632           IA         Iowa      BRFSS  Asthma   \n",
       "6777           KS       Kansas      BRFSS  Asthma   \n",
       "7034           KY     Kentucky      BRFSS  Asthma   \n",
       "\n",
       "                                               Question YearStart YearEnd  \\\n",
       "4725  Current asthma prevalence among adults aged >=...      2016    2016   \n",
       "5529  Current asthma prevalence among adults aged >=...      2016    2016   \n",
       "5632  Current asthma prevalence among adults aged >=...      2016    2016   \n",
       "6777  Current asthma prevalence among adults aged >=...      2016    2016   \n",
       "7034  Current asthma prevalence among adults aged >=...      2016    2016   \n",
       "\n",
       "     DataValue  \n",
       "4725       6.5  \n",
       "5529       6.7  \n",
       "5632       5.6  \n",
       "6777       6.1  \n",
       "7034       6.9  "
      ]
     },
     "execution_count": 39,
     "metadata": {},
     "output_type": "execute_result"
    }
   ],
   "source": [
    "cols = ['LocationAbbr', 'LocationDesc', 'DataSource','Topic', 'Question', 'YearStart', 'YearEnd', 'DataValue']\n",
    "view = df[df.Question == 'Current asthma prevalence among adults aged >= 18 years'][cols]\n",
    "view.head()"
   ]
  },
  {
   "cell_type": "code",
   "execution_count": 41,
   "metadata": {
    "ExecuteTime": {
     "end_time": "2020-06-13T21:27:00.346433Z",
     "start_time": "2020-06-13T21:27:00.331215Z"
    }
   },
   "outputs": [
    {
     "data": {
      "text/html": [
       "<div>\n",
       "<style scoped>\n",
       "    .dataframe tbody tr th:only-of-type {\n",
       "        vertical-align: middle;\n",
       "    }\n",
       "\n",
       "    .dataframe tbody tr th {\n",
       "        vertical-align: top;\n",
       "    }\n",
       "\n",
       "    .dataframe thead th {\n",
       "        text-align: right;\n",
       "    }\n",
       "</style>\n",
       "<table border=\"1\" class=\"dataframe\">\n",
       "  <thead>\n",
       "    <tr style=\"text-align: right;\">\n",
       "      <th></th>\n",
       "      <th>LocationAbbr</th>\n",
       "      <th>LocationDesc</th>\n",
       "      <th>DataSource</th>\n",
       "      <th>Topic</th>\n",
       "      <th>Question</th>\n",
       "      <th>YearStart</th>\n",
       "      <th>YearEnd</th>\n",
       "      <th>DataValue</th>\n",
       "    </tr>\n",
       "  </thead>\n",
       "  <tbody>\n",
       "    <tr>\n",
       "      <td>9797</td>\n",
       "      <td>AK</td>\n",
       "      <td>Alaska</td>\n",
       "      <td>BRFSS</td>\n",
       "      <td>Asthma</td>\n",
       "      <td>Current asthma prevalence among adults aged &gt;=...</td>\n",
       "      <td>2016</td>\n",
       "      <td>2016</td>\n",
       "      <td>None</td>\n",
       "    </tr>\n",
       "    <tr>\n",
       "      <td>10013</td>\n",
       "      <td>AK</td>\n",
       "      <td>Alaska</td>\n",
       "      <td>BRFSS</td>\n",
       "      <td>Asthma</td>\n",
       "      <td>Current asthma prevalence among adults aged &gt;=...</td>\n",
       "      <td>2016</td>\n",
       "      <td>2016</td>\n",
       "      <td>10.3</td>\n",
       "    </tr>\n",
       "    <tr>\n",
       "      <td>9427</td>\n",
       "      <td>AK</td>\n",
       "      <td>Alaska</td>\n",
       "      <td>BRFSS</td>\n",
       "      <td>Asthma</td>\n",
       "      <td>Current asthma prevalence among adults aged &gt;=...</td>\n",
       "      <td>2016</td>\n",
       "      <td>2016</td>\n",
       "      <td>9</td>\n",
       "    </tr>\n",
       "    <tr>\n",
       "      <td>9959</td>\n",
       "      <td>AK</td>\n",
       "      <td>Alaska</td>\n",
       "      <td>BRFSS</td>\n",
       "      <td>Asthma</td>\n",
       "      <td>Current asthma prevalence among adults aged &gt;=...</td>\n",
       "      <td>2016</td>\n",
       "      <td>2016</td>\n",
       "      <td>None</td>\n",
       "    </tr>\n",
       "    <tr>\n",
       "      <td>9905</td>\n",
       "      <td>AK</td>\n",
       "      <td>Alaska</td>\n",
       "      <td>BRFSS</td>\n",
       "      <td>Asthma</td>\n",
       "      <td>Current asthma prevalence among adults aged &gt;=...</td>\n",
       "      <td>2016</td>\n",
       "      <td>2016</td>\n",
       "      <td>None</td>\n",
       "    </tr>\n",
       "  </tbody>\n",
       "</table>\n",
       "</div>"
      ],
      "text/plain": [
       "      LocationAbbr LocationDesc DataSource   Topic  \\\n",
       "9797            AK       Alaska      BRFSS  Asthma   \n",
       "10013           AK       Alaska      BRFSS  Asthma   \n",
       "9427            AK       Alaska      BRFSS  Asthma   \n",
       "9959            AK       Alaska      BRFSS  Asthma   \n",
       "9905            AK       Alaska      BRFSS  Asthma   \n",
       "\n",
       "                                                Question YearStart YearEnd  \\\n",
       "9797   Current asthma prevalence among adults aged >=...      2016    2016   \n",
       "10013  Current asthma prevalence among adults aged >=...      2016    2016   \n",
       "9427   Current asthma prevalence among adults aged >=...      2016    2016   \n",
       "9959   Current asthma prevalence among adults aged >=...      2016    2016   \n",
       "9905   Current asthma prevalence among adults aged >=...      2016    2016   \n",
       "\n",
       "      DataValue  \n",
       "9797       None  \n",
       "10013      10.3  \n",
       "9427          9  \n",
       "9959       None  \n",
       "9905       None  "
      ]
     },
     "execution_count": 41,
     "metadata": {},
     "output_type": "execute_result"
    }
   ],
   "source": [
    "view.sort_values(by='LocationAbbr').head()"
   ]
  },
  {
   "cell_type": "code",
   "execution_count": 43,
   "metadata": {
    "ExecuteTime": {
     "end_time": "2020-06-13T21:27:49.774970Z",
     "start_time": "2020-06-13T21:27:49.745461Z"
    }
   },
   "outputs": [
    {
     "data": {
      "text/plain": [
       "RACE       0.631534\n",
       "GENDER     0.231673\n",
       "OVERALL    0.136794\n",
       "Name: StratificationCategoryID1, dtype: float64"
      ]
     },
     "execution_count": 43,
     "metadata": {},
     "output_type": "execute_result"
    }
   ],
   "source": [
    "df.StratificationCategoryID1.value_counts(normalize=True)"
   ]
  },
  {
   "cell_type": "markdown",
   "metadata": {},
   "source": [
    "## Summary\n",
    "\n",
    "Well done! In this lab you got some extended practice exploring the structure of JSON files, converting json files to pandas DataFrame, and visualizing data!"
   ]
  }
 ],
 "metadata": {
  "kernelspec": {
   "display_name": "Python 3",
   "language": "python",
   "name": "python3"
  },
  "language_info": {
   "codemirror_mode": {
    "name": "ipython",
    "version": 3
   },
   "file_extension": ".py",
   "mimetype": "text/x-python",
   "name": "python",
   "nbconvert_exporter": "python",
   "pygments_lexer": "ipython3",
   "version": "3.6.9"
  },
  "toc": {
   "base_numbering": 1,
   "nav_menu": {},
   "number_sections": true,
   "sideBar": true,
   "skip_h1_title": false,
   "title_cell": "Table of Contents",
   "title_sidebar": "Contents",
   "toc_cell": false,
   "toc_position": {},
   "toc_section_display": true,
   "toc_window_display": false
  },
  "varInspector": {
   "cols": {
    "lenName": 16,
    "lenType": 16,
    "lenVar": 40
   },
   "kernels_config": {
    "python": {
     "delete_cmd_postfix": "",
     "delete_cmd_prefix": "del ",
     "library": "var_list.py",
     "varRefreshCmd": "print(var_dic_list())"
    },
    "r": {
     "delete_cmd_postfix": ") ",
     "delete_cmd_prefix": "rm(",
     "library": "var_list.r",
     "varRefreshCmd": "cat(var_dic_list()) "
    }
   },
   "types_to_exclude": [
    "module",
    "function",
    "builtin_function_or_method",
    "instance",
    "_Feature"
   ],
   "window_display": false
  }
 },
 "nbformat": 4,
 "nbformat_minor": 2
}
